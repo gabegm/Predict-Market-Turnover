{
 "cells": [
  {
   "cell_type": "markdown",
   "metadata": {},
   "source": [
    "# import"
   ]
  },
  {
   "cell_type": "code",
   "execution_count": 1,
   "metadata": {},
   "outputs": [],
   "source": [
    "import pandas as pd"
   ]
  },
  {
   "cell_type": "code",
   "execution_count": null,
   "metadata": {},
   "outputs": [],
   "source": [
    "file = 'data/bundesliga'"
   ]
  },
  {
   "cell_type": "code",
   "execution_count": 4,
   "metadata": {},
   "outputs": [],
   "source": [
    "file = '../data/result'"
   ]
  },
  {
   "cell_type": "code",
   "execution_count": 5,
   "metadata": {},
   "outputs": [],
   "source": [
    "df = pd.read_csv(file + '.csv', parse_dates=['eventbegin'])"
   ]
  },
  {
   "cell_type": "code",
   "execution_count": 6,
   "metadata": {},
   "outputs": [
    {
     "data": {
      "text/html": [
       "<div>\n",
       "<style scoped>\n",
       "    .dataframe tbody tr th:only-of-type {\n",
       "        vertical-align: middle;\n",
       "    }\n",
       "\n",
       "    .dataframe tbody tr th {\n",
       "        vertical-align: top;\n",
       "    }\n",
       "\n",
       "    .dataframe thead th {\n",
       "        text-align: right;\n",
       "    }\n",
       "</style>\n",
       "<table border=\"1\" class=\"dataframe\">\n",
       "  <thead>\n",
       "    <tr style=\"text-align: right;\">\n",
       "      <th></th>\n",
       "      <th>programevent_id</th>\n",
       "      <th>name_de</th>\n",
       "      <th>eventbegin</th>\n",
       "      <th>channel</th>\n",
       "      <th>market</th>\n",
       "      <th>turnover</th>\n",
       "    </tr>\n",
       "  </thead>\n",
       "  <tbody>\n",
       "    <tr>\n",
       "      <th>0</th>\n",
       "      <td>190001810</td>\n",
       "      <td>Bayern München - Bayer Leverkusen</td>\n",
       "      <td>2017-08-18 20:38:08</td>\n",
       "      <td>Online</td>\n",
       "      <td>goal-scorer-halftime</td>\n",
       "      <td>NaN</td>\n",
       "    </tr>\n",
       "    <tr>\n",
       "      <th>1</th>\n",
       "      <td>190001810</td>\n",
       "      <td>Bayern München - Bayer Leverkusen</td>\n",
       "      <td>2017-08-18 20:38:08</td>\n",
       "      <td>Retail</td>\n",
       "      <td>team-points-more-less</td>\n",
       "      <td>NaN</td>\n",
       "    </tr>\n",
       "    <tr>\n",
       "      <th>2</th>\n",
       "      <td>190001810</td>\n",
       "      <td>Bayern München - Bayer Leverkusen</td>\n",
       "      <td>2017-08-18 20:38:08</td>\n",
       "      <td>Retail</td>\n",
       "      <td>standard</td>\n",
       "      <td>NaN</td>\n",
       "    </tr>\n",
       "    <tr>\n",
       "      <th>3</th>\n",
       "      <td>190001810</td>\n",
       "      <td>Bayern München - Bayer Leverkusen</td>\n",
       "      <td>2017-08-18 20:38:08</td>\n",
       "      <td>Retail</td>\n",
       "      <td>handicap</td>\n",
       "      <td>NaN</td>\n",
       "    </tr>\n",
       "    <tr>\n",
       "      <th>4</th>\n",
       "      <td>190001810</td>\n",
       "      <td>Bayern München - Bayer Leverkusen</td>\n",
       "      <td>2017-08-18 20:38:08</td>\n",
       "      <td>Online</td>\n",
       "      <td>points-more-less-than</td>\n",
       "      <td>NaN</td>\n",
       "    </tr>\n",
       "  </tbody>\n",
       "</table>\n",
       "</div>"
      ],
      "text/plain": [
       "   programevent_id                            name_de          eventbegin  \\\n",
       "0        190001810  Bayern München - Bayer Leverkusen 2017-08-18 20:38:08   \n",
       "1        190001810  Bayern München - Bayer Leverkusen 2017-08-18 20:38:08   \n",
       "2        190001810  Bayern München - Bayer Leverkusen 2017-08-18 20:38:08   \n",
       "3        190001810  Bayern München - Bayer Leverkusen 2017-08-18 20:38:08   \n",
       "4        190001810  Bayern München - Bayer Leverkusen 2017-08-18 20:38:08   \n",
       "\n",
       "  channel                 market  turnover  \n",
       "0  Online   goal-scorer-halftime       NaN  \n",
       "1  Retail  team-points-more-less       NaN  \n",
       "2  Retail               standard       NaN  \n",
       "3  Retail               handicap       NaN  \n",
       "4  Online  points-more-less-than       NaN  "
      ]
     },
     "execution_count": 6,
     "metadata": {},
     "output_type": "execute_result"
    }
   ],
   "source": [
    "df.head()"
   ]
  },
  {
   "cell_type": "markdown",
   "metadata": {},
   "source": [
    "# feature engineering"
   ]
  },
  {
   "cell_type": "code",
   "execution_count": 7,
   "metadata": {},
   "outputs": [],
   "source": [
    "def get_features(df):\n",
    "    # add day of week\n",
    "    df['weekday'] = df['eventbegin'].dt.weekday_name\n",
    "\n",
    "    # add period of day\n",
    "    df = df.assign(\n",
    "        period=pd.cut(\n",
    "            x=df['eventbegin'].dt.hour,\n",
    "            bins=[-1, 12, 17, 24],\n",
    "            labels=['Morning', 'Afternoon', 'Evening']\n",
    "        )\n",
    "    )\n",
    "\n",
    "    # split datetime\n",
    "    new_dates, new_times = zip(*[(d.date(), d.time()) for d in df['eventbegin']])\n",
    "    df = df.assign(date=new_dates, time=new_times).drop(labels=['eventbegin'], axis=1)\n",
    "\n",
    "    # split participants\n",
    "    df['participant_a'], df['participant_b'] = df['name_de'].str.strip().str.split(pat=' - ', n=1).str\n",
    "    df = df.drop(labels=['name_de'], axis=1)\n",
    "    \n",
    "    return df"
   ]
  },
  {
   "cell_type": "code",
   "execution_count": 8,
   "metadata": {},
   "outputs": [],
   "source": [
    "df = get_features(df)"
   ]
  },
  {
   "cell_type": "code",
   "execution_count": 9,
   "metadata": {},
   "outputs": [
    {
     "data": {
      "text/html": [
       "<div>\n",
       "<style scoped>\n",
       "    .dataframe tbody tr th:only-of-type {\n",
       "        vertical-align: middle;\n",
       "    }\n",
       "\n",
       "    .dataframe tbody tr th {\n",
       "        vertical-align: top;\n",
       "    }\n",
       "\n",
       "    .dataframe thead th {\n",
       "        text-align: right;\n",
       "    }\n",
       "</style>\n",
       "<table border=\"1\" class=\"dataframe\">\n",
       "  <thead>\n",
       "    <tr style=\"text-align: right;\">\n",
       "      <th></th>\n",
       "      <th>programevent_id</th>\n",
       "      <th>channel</th>\n",
       "      <th>market</th>\n",
       "      <th>turnover</th>\n",
       "      <th>weekday</th>\n",
       "      <th>period</th>\n",
       "      <th>date</th>\n",
       "      <th>time</th>\n",
       "      <th>participant_a</th>\n",
       "      <th>participant_b</th>\n",
       "    </tr>\n",
       "  </thead>\n",
       "  <tbody>\n",
       "    <tr>\n",
       "      <th>0</th>\n",
       "      <td>190001810</td>\n",
       "      <td>Online</td>\n",
       "      <td>goal-scorer-halftime</td>\n",
       "      <td>NaN</td>\n",
       "      <td>Friday</td>\n",
       "      <td>Evening</td>\n",
       "      <td>2017-08-18</td>\n",
       "      <td>20:38:08</td>\n",
       "      <td>Bayern München</td>\n",
       "      <td>Bayer Leverkusen</td>\n",
       "    </tr>\n",
       "    <tr>\n",
       "      <th>1</th>\n",
       "      <td>190001810</td>\n",
       "      <td>Retail</td>\n",
       "      <td>team-points-more-less</td>\n",
       "      <td>NaN</td>\n",
       "      <td>Friday</td>\n",
       "      <td>Evening</td>\n",
       "      <td>2017-08-18</td>\n",
       "      <td>20:38:08</td>\n",
       "      <td>Bayern München</td>\n",
       "      <td>Bayer Leverkusen</td>\n",
       "    </tr>\n",
       "    <tr>\n",
       "      <th>2</th>\n",
       "      <td>190001810</td>\n",
       "      <td>Retail</td>\n",
       "      <td>standard</td>\n",
       "      <td>NaN</td>\n",
       "      <td>Friday</td>\n",
       "      <td>Evening</td>\n",
       "      <td>2017-08-18</td>\n",
       "      <td>20:38:08</td>\n",
       "      <td>Bayern München</td>\n",
       "      <td>Bayer Leverkusen</td>\n",
       "    </tr>\n",
       "    <tr>\n",
       "      <th>3</th>\n",
       "      <td>190001810</td>\n",
       "      <td>Retail</td>\n",
       "      <td>handicap</td>\n",
       "      <td>NaN</td>\n",
       "      <td>Friday</td>\n",
       "      <td>Evening</td>\n",
       "      <td>2017-08-18</td>\n",
       "      <td>20:38:08</td>\n",
       "      <td>Bayern München</td>\n",
       "      <td>Bayer Leverkusen</td>\n",
       "    </tr>\n",
       "    <tr>\n",
       "      <th>4</th>\n",
       "      <td>190001810</td>\n",
       "      <td>Online</td>\n",
       "      <td>points-more-less-than</td>\n",
       "      <td>NaN</td>\n",
       "      <td>Friday</td>\n",
       "      <td>Evening</td>\n",
       "      <td>2017-08-18</td>\n",
       "      <td>20:38:08</td>\n",
       "      <td>Bayern München</td>\n",
       "      <td>Bayer Leverkusen</td>\n",
       "    </tr>\n",
       "  </tbody>\n",
       "</table>\n",
       "</div>"
      ],
      "text/plain": [
       "   programevent_id channel                 market  turnover weekday   period  \\\n",
       "0        190001810  Online   goal-scorer-halftime       NaN  Friday  Evening   \n",
       "1        190001810  Retail  team-points-more-less       NaN  Friday  Evening   \n",
       "2        190001810  Retail               standard       NaN  Friday  Evening   \n",
       "3        190001810  Retail               handicap       NaN  Friday  Evening   \n",
       "4        190001810  Online  points-more-less-than       NaN  Friday  Evening   \n",
       "\n",
       "         date      time   participant_a     participant_b  \n",
       "0  2017-08-18  20:38:08  Bayern München  Bayer Leverkusen  \n",
       "1  2017-08-18  20:38:08  Bayern München  Bayer Leverkusen  \n",
       "2  2017-08-18  20:38:08  Bayern München  Bayer Leverkusen  \n",
       "3  2017-08-18  20:38:08  Bayern München  Bayer Leverkusen  \n",
       "4  2017-08-18  20:38:08  Bayern München  Bayer Leverkusen  "
      ]
     },
     "execution_count": 9,
     "metadata": {},
     "output_type": "execute_result"
    }
   ],
   "source": [
    "df.head()"
   ]
  },
  {
   "cell_type": "markdown",
   "metadata": {},
   "source": [
    "# tidying"
   ]
  },
  {
   "cell_type": "code",
   "execution_count": 10,
   "metadata": {},
   "outputs": [],
   "source": [
    "from difflib import SequenceMatcher\n",
    "\n",
    "class SequenceCorrector:\n",
    "    \"\"\"Iterator for looping over a sequence backwards.\"\"\"\n",
    "    def __init__(self, s):\n",
    "        self.s = s\n",
    "        self.s_unique = s.unique()\n",
    "\n",
    "    def similar(self, a, b):\n",
    "        return SequenceMatcher(None, a, b).ratio()\n",
    "        \n",
    "    def correct_duplicates(self):\n",
    "        for a in self.s_unique:\n",
    "            for b in self.s_unique:\n",
    "                result = self.similar(a, b)\n",
    "                if result > .6 and result < 1.0:\n",
    "                    print('to_replace =', a, ':', b, 'similarity =', result)\n",
    "                    self.s = self.s.replace(to_replace={a:b})\n",
    "\n",
    "        return self.s"
   ]
  },
  {
   "cell_type": "code",
   "execution_count": 11,
   "metadata": {},
   "outputs": [
    {
     "name": "stdout",
     "output_type": "stream",
     "text": [
      "to_replace = Borussia M'gladbach : Bor. M'gladbach similarity = 0.8235294117647058\n",
      "to_replace = Eint. Frankfurt : Eintracht Frankfurt similarity = 0.8235294117647058\n",
      "to_replace = Augsburg : FC Augsburg similarity = 0.8421052631578947\n",
      "to_replace = Borussia Dortmund : Bor. Dortmund similarity = 0.8\n",
      "to_replace = FC Augsburg : Augsburg similarity = 0.8421052631578947\n",
      "to_replace = Eintracht Frankfurt : Eint. Frankfurt similarity = 0.8235294117647058\n",
      "to_replace = Bor. Dortmund : Borussia Dortmund similarity = 0.8\n",
      "to_replace = Bor. M'gladbach : Borussia M'gladbach similarity = 0.8235294117647058\n"
     ]
    }
   ],
   "source": [
    "sc = SequenceCorrector(df['participant_a'])\n",
    "df['participant_a'] = sc.correct_duplicates()"
   ]
  },
  {
   "cell_type": "code",
   "execution_count": 12,
   "metadata": {},
   "outputs": [
    {
     "name": "stdout",
     "output_type": "stream",
     "text": [
      "to_replace = Wolfsburg : VfL Wolfsburg similarity = 0.8181818181818182\n",
      "to_replace = B. M'gladbach : Borussia M'gladbach similarity = 0.75\n",
      "to_replace = VfL Wolfsburg : Wolfsburg similarity = 0.8181818181818182\n",
      "to_replace = Borussia M'gladbach : B. M'gladbach similarity = 0.75\n"
     ]
    }
   ],
   "source": [
    "sc = SequenceCorrector(df['participant_b'])\n",
    "df['participant_b'] = sc.correct_duplicates()"
   ]
  },
  {
   "cell_type": "code",
   "execution_count": 13,
   "metadata": {},
   "outputs": [
    {
     "data": {
      "text/plain": [
       "array(['Bayern München', '1899 Hoffenheim', 'Hamburger SV',\n",
       "       'VfL Wolfsburg', 'Hertha BSC', 'FSV Mainz 05', 'Schalke 04',\n",
       "       'SC Freiburg ', \"Borussia M'gladbach\", '1.FC Köln',\n",
       "       'Werder Bremen', 'Eint. Frankfurt', 'Augsburg', 'VfB Stuttgart',\n",
       "       'Bayer Leverkusen', 'Borussia Dortmund', 'RB Leipzig',\n",
       "       'Hannover 96'], dtype=object)"
      ]
     },
     "execution_count": 13,
     "metadata": {},
     "output_type": "execute_result"
    }
   ],
   "source": [
    "df['participant_a'].unique()"
   ]
  },
  {
   "cell_type": "code",
   "execution_count": 14,
   "metadata": {},
   "outputs": [
    {
     "data": {
      "text/plain": [
       "array(['Bayer Leverkusen', 'Werder Bremen', 'FC Augsburg',\n",
       "       'Borussia Dortmund', 'VfB Stuttgart', 'Hannover 96', 'RB Leipzig',\n",
       "       'Eintracht Frankfurt', '1.FC Köln', 'Hamburger SV',\n",
       "       'Bayern München', 'Wolfsburg', \"B. M'gladbach\", 'FSV Mainz 05',\n",
       "       '1899 Hoffenheim', 'Hertha BSC', 'SC Freiburg', 'Schalke 04'],\n",
       "      dtype=object)"
      ]
     },
     "execution_count": 14,
     "metadata": {},
     "output_type": "execute_result"
    }
   ],
   "source": [
    "df['participant_b'].unique()"
   ]
  },
  {
   "cell_type": "code",
   "execution_count": 15,
   "metadata": {},
   "outputs": [
    {
     "data": {
      "text/html": [
       "<div>\n",
       "<style scoped>\n",
       "    .dataframe tbody tr th:only-of-type {\n",
       "        vertical-align: middle;\n",
       "    }\n",
       "\n",
       "    .dataframe tbody tr th {\n",
       "        vertical-align: top;\n",
       "    }\n",
       "\n",
       "    .dataframe thead th {\n",
       "        text-align: right;\n",
       "    }\n",
       "</style>\n",
       "<table border=\"1\" class=\"dataframe\">\n",
       "  <thead>\n",
       "    <tr style=\"text-align: right;\">\n",
       "      <th></th>\n",
       "      <th>programevent_id</th>\n",
       "      <th>channel</th>\n",
       "      <th>market</th>\n",
       "      <th>turnover</th>\n",
       "      <th>weekday</th>\n",
       "      <th>period</th>\n",
       "      <th>date</th>\n",
       "      <th>time</th>\n",
       "      <th>participant_a</th>\n",
       "      <th>participant_b</th>\n",
       "    </tr>\n",
       "  </thead>\n",
       "  <tbody>\n",
       "    <tr>\n",
       "      <th>0</th>\n",
       "      <td>190001810</td>\n",
       "      <td>Online</td>\n",
       "      <td>goal-scorer-halftime</td>\n",
       "      <td>NaN</td>\n",
       "      <td>Friday</td>\n",
       "      <td>Evening</td>\n",
       "      <td>2017-08-18</td>\n",
       "      <td>20:38:08</td>\n",
       "      <td>Bayern München</td>\n",
       "      <td>Bayer Leverkusen</td>\n",
       "    </tr>\n",
       "    <tr>\n",
       "      <th>1</th>\n",
       "      <td>190001810</td>\n",
       "      <td>Retail</td>\n",
       "      <td>team-points-more-less</td>\n",
       "      <td>NaN</td>\n",
       "      <td>Friday</td>\n",
       "      <td>Evening</td>\n",
       "      <td>2017-08-18</td>\n",
       "      <td>20:38:08</td>\n",
       "      <td>Bayern München</td>\n",
       "      <td>Bayer Leverkusen</td>\n",
       "    </tr>\n",
       "    <tr>\n",
       "      <th>2</th>\n",
       "      <td>190001810</td>\n",
       "      <td>Retail</td>\n",
       "      <td>standard</td>\n",
       "      <td>NaN</td>\n",
       "      <td>Friday</td>\n",
       "      <td>Evening</td>\n",
       "      <td>2017-08-18</td>\n",
       "      <td>20:38:08</td>\n",
       "      <td>Bayern München</td>\n",
       "      <td>Bayer Leverkusen</td>\n",
       "    </tr>\n",
       "    <tr>\n",
       "      <th>3</th>\n",
       "      <td>190001810</td>\n",
       "      <td>Retail</td>\n",
       "      <td>handicap</td>\n",
       "      <td>NaN</td>\n",
       "      <td>Friday</td>\n",
       "      <td>Evening</td>\n",
       "      <td>2017-08-18</td>\n",
       "      <td>20:38:08</td>\n",
       "      <td>Bayern München</td>\n",
       "      <td>Bayer Leverkusen</td>\n",
       "    </tr>\n",
       "    <tr>\n",
       "      <th>4</th>\n",
       "      <td>190001810</td>\n",
       "      <td>Online</td>\n",
       "      <td>points-more-less-than</td>\n",
       "      <td>NaN</td>\n",
       "      <td>Friday</td>\n",
       "      <td>Evening</td>\n",
       "      <td>2017-08-18</td>\n",
       "      <td>20:38:08</td>\n",
       "      <td>Bayern München</td>\n",
       "      <td>Bayer Leverkusen</td>\n",
       "    </tr>\n",
       "  </tbody>\n",
       "</table>\n",
       "</div>"
      ],
      "text/plain": [
       "   programevent_id channel                 market  turnover weekday   period  \\\n",
       "0        190001810  Online   goal-scorer-halftime       NaN  Friday  Evening   \n",
       "1        190001810  Retail  team-points-more-less       NaN  Friday  Evening   \n",
       "2        190001810  Retail               standard       NaN  Friday  Evening   \n",
       "3        190001810  Retail               handicap       NaN  Friday  Evening   \n",
       "4        190001810  Online  points-more-less-than       NaN  Friday  Evening   \n",
       "\n",
       "         date      time   participant_a     participant_b  \n",
       "0  2017-08-18  20:38:08  Bayern München  Bayer Leverkusen  \n",
       "1  2017-08-18  20:38:08  Bayern München  Bayer Leverkusen  \n",
       "2  2017-08-18  20:38:08  Bayern München  Bayer Leverkusen  \n",
       "3  2017-08-18  20:38:08  Bayern München  Bayer Leverkusen  \n",
       "4  2017-08-18  20:38:08  Bayern München  Bayer Leverkusen  "
      ]
     },
     "execution_count": 15,
     "metadata": {},
     "output_type": "execute_result"
    }
   ],
   "source": [
    "df.head()"
   ]
  },
  {
   "cell_type": "code",
   "execution_count": 16,
   "metadata": {},
   "outputs": [
    {
     "data": {
      "text/plain": [
       "Index(['programevent_id', 'channel', 'market', 'turnover', 'weekday', 'period',\n",
       "       'date', 'time', 'participant_a', 'participant_b'],\n",
       "      dtype='object')"
      ]
     },
     "execution_count": 16,
     "metadata": {},
     "output_type": "execute_result"
    }
   ],
   "source": [
    "df.columns"
   ]
  },
  {
   "cell_type": "code",
   "execution_count": 17,
   "metadata": {},
   "outputs": [],
   "source": [
    "df.to_parquet(fname=file + '.parquet', engine='pyarrow')"
   ]
  }
 ],
 "metadata": {
  "kernelspec": {
   "display_name": "Python [conda env:ds_test]",
   "language": "python",
   "name": "conda-env-ds_test-py"
  },
  "language_info": {
   "codemirror_mode": {
    "name": "ipython",
    "version": 3
   },
   "file_extension": ".py",
   "mimetype": "text/x-python",
   "name": "python",
   "nbconvert_exporter": "python",
   "pygments_lexer": "ipython3",
   "version": "3.6.6"
  }
 },
 "nbformat": 4,
 "nbformat_minor": 2
}
