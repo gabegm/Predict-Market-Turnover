{
 "cells": [
  {
   "cell_type": "code",
   "execution_count": 74,
   "metadata": {},
   "outputs": [],
   "source": [
    "using DataFrames, CSV"
   ]
  },
  {
   "cell_type": "code",
   "execution_count": 75,
   "metadata": {},
   "outputs": [
    {
     "data": {
      "text/html": [
       "<table class=\"data-frame\"><thead><tr><th></th><th>programevent_id</th><th>name_de</th><th>eventbegin</th><th>channel</th><th>market</th><th>turnover</th></tr></thead><tbody><tr><th>1</th><td>33954710</td><td>Schalke 04 - VfL Wolfsburg</td><td>2009-09-18 20:30:00</td><td>Retail</td><td>standard</td><td>17795.0</td></tr><tr><th>2</th><td>33954710</td><td>Schalke 04 - VfL Wolfsburg</td><td>2009-09-18 20:30:00</td><td>Retail</td><td>double-chance</td><td>4950.0</td></tr><tr><th>3</th><td>33954710</td><td>Schalke 04 - VfL Wolfsburg</td><td>2009-09-18 20:30:00</td><td>Retail</td><td>next-point</td><td>4211.0</td></tr><tr><th>4</th><td>33954710</td><td>Schalke 04 - VfL Wolfsburg</td><td>2009-09-18 20:30:00</td><td>Retail</td><td>points-more-less-than</td><td>2031.0</td></tr><tr><th>5</th><td>33954710</td><td>Schalke 04 - VfL Wolfsburg</td><td>2009-09-18 20:30:00</td><td>Retail</td><td>points-more-less-rest</td><td>2587.0</td></tr><tr><th>6</th><td>33954710</td><td>Schalke 04 - VfL Wolfsburg</td><td>2009-09-18 20:30:00</td><td>Retail</td><td>points-more-less-rest-halftime</td><td>1304.0</td></tr><tr><th>7</th><td>33954710</td><td>Schalke 04 - VfL Wolfsburg</td><td>2009-09-18 20:30:00</td><td>Retail</td><td>standard-rest</td><td>1351.0</td></tr><tr><th>8</th><td>33954810</td><td>Bay. München - 1. FC Nürnberg</td><td>2009-09-19 15:30:00</td><td>Retail</td><td>points-more-less-rest</td><td>2587.0</td></tr><tr><th>9</th><td>33954810</td><td>Bay. München - 1. FC Nürnberg</td><td>2009-09-19 15:30:00</td><td>Retail</td><td>standard</td><td>27826.0</td></tr><tr><th>10</th><td>33954810</td><td>Bay. München - 1. FC Nürnberg</td><td>2009-09-19 15:30:00</td><td>Retail</td><td>section-win</td><td>1061.0</td></tr><tr><th>11</th><td>33954810</td><td>Bay. München - 1. FC Nürnberg</td><td>2009-09-19 15:30:00</td><td>Retail</td><td>standard-rest</td><td>2090.0</td></tr><tr><th>12</th><td>33954810</td><td>Bay. München - 1. FC Nürnberg</td><td>2009-09-19 15:30:00</td><td>Retail</td><td>points-more-less-than</td><td>1821.0</td></tr><tr><th>13</th><td>33954810</td><td>Bay. München - 1. FC Nürnberg</td><td>2009-09-19 15:30:00</td><td>Retail</td><td>handicap</td><td>3025.0</td></tr><tr><th>14</th><td>33954810</td><td>Bay. München - 1. FC Nürnberg</td><td>2009-09-19 15:30:00</td><td>Retail</td><td>next-point</td><td>4429.0</td></tr><tr><th>15</th><td>66815510</td><td>Bor. M'gladbach - Bay. München</td><td>2012-01-20 20:33:21</td><td>Online</td><td>goal-scorer-team-wins</td><td>1301.0</td></tr><tr><th>16</th><td>66815510</td><td>Bor. M'gladbach - Bay. München</td><td>2012-01-20 20:33:21</td><td>Retail</td><td>point-bet</td><td>1629.0</td></tr><tr><th>17</th><td>66815510</td><td>Bor. M'gladbach - Bay. München</td><td>2012-01-20 20:33:21</td><td>Online</td><td>points-more-less-rest</td><td>7511.0</td></tr><tr><th>18</th><td>66815510</td><td>Bor. M'gladbach - Bay. München</td><td>2012-01-20 20:33:21</td><td>Retail</td><td>standard</td><td>55345.0</td></tr><tr><th>19</th><td>66815510</td><td>Bor. M'gladbach - Bay. München</td><td>2012-01-20 20:33:21</td><td>Online</td><td>next-corner-kick</td><td>1611.0</td></tr><tr><th>20</th><td>66815510</td><td>Bor. M'gladbach - Bay. München</td><td>2012-01-20 20:33:21</td><td>Online</td><td>points-more-less-rest-halftime</td><td>1286.0</td></tr><tr><th>21</th><td>66815510</td><td>Bor. M'gladbach - Bay. München</td><td>2012-01-20 20:33:21</td><td>Online</td><td>standard-rest</td><td>4153.0</td></tr><tr><th>22</th><td>66815510</td><td>Bor. M'gladbach - Bay. München</td><td>2012-01-20 20:33:21</td><td>Online</td><td>minutes-foul</td><td>1777.0</td></tr><tr><th>23</th><td>66815510</td><td>Bor. M'gladbach - Bay. München</td><td>2012-01-20 20:33:21</td><td>Online</td><td>handicap</td><td>5751.0</td></tr><tr><th>24</th><td>66815510</td><td>Bor. M'gladbach - Bay. München</td><td>2012-01-20 20:33:21</td><td>Online</td><td>yellow-cards-more-less-rest</td><td>1224.0</td></tr><tr><th>25</th><td>66815510</td><td>Bor. M'gladbach - Bay. München</td><td>2012-01-20 20:33:21</td><td>Online</td><td>next-point-halftime</td><td>1418.0</td></tr><tr><th>26</th><td>66815510</td><td>Bor. M'gladbach - Bay. München</td><td>2012-01-20 20:33:21</td><td>Retail</td><td>corner-kicks-more-less-rest</td><td>1238.0</td></tr><tr><th>27</th><td>66815510</td><td>Bor. M'gladbach - Bay. München</td><td>2012-01-20 20:33:21</td><td>Retail</td><td>injury-time-more-less-than</td><td>1371.0</td></tr><tr><th>28</th><td>66815510</td><td>Bor. M'gladbach - Bay. München</td><td>2012-01-20 20:33:21</td><td>Retail</td><td>section-win</td><td>2336.0</td></tr><tr><th>29</th><td>66815510</td><td>Bor. M'gladbach - Bay. München</td><td>2012-01-20 20:33:21</td><td>Online</td><td>next-point</td><td>7623.0</td></tr><tr><th>30</th><td>66815510</td><td>Bor. M'gladbach - Bay. München</td><td>2012-01-20 20:33:21</td><td>Online</td><td>section-win</td><td>1739.0</td></tr><tr><th>&vellip;</th><td>&vellip;</td><td>&vellip;</td><td>&vellip;</td><td>&vellip;</td><td>&vellip;</td><td>&vellip;</td></tr></tbody></table>"
      ],
      "text/plain": [
       "46588×6 DataFrame. Omitted printing of 4 columns\n",
       "│ Row   │ programevent_id │ name_de                       │\n",
       "├───────┼─────────────────┼───────────────────────────────┤\n",
       "│ 1     │ 33954710        │ Schalke 04 - VfL Wolfsburg    │\n",
       "│ 2     │ 33954710        │ Schalke 04 - VfL Wolfsburg    │\n",
       "│ 3     │ 33954710        │ Schalke 04 - VfL Wolfsburg    │\n",
       "│ 4     │ 33954710        │ Schalke 04 - VfL Wolfsburg    │\n",
       "│ 5     │ 33954710        │ Schalke 04 - VfL Wolfsburg    │\n",
       "│ 6     │ 33954710        │ Schalke 04 - VfL Wolfsburg    │\n",
       "│ 7     │ 33954710        │ Schalke 04 - VfL Wolfsburg    │\n",
       "│ 8     │ 33954810        │ Bay. München - 1. FC Nürnberg │\n",
       "│ 9     │ 33954810        │ Bay. München - 1. FC Nürnberg │\n",
       "│ 10    │ 33954810        │ Bay. München - 1. FC Nürnberg │\n",
       "│ 11    │ 33954810        │ Bay. München - 1. FC Nürnberg │\n",
       "⋮\n",
       "│ 46577 │ 187096910       │ Bayern München - SC Freiburg  │\n",
       "│ 46578 │ 187096910       │ Bayern München - SC Freiburg  │\n",
       "│ 46579 │ 187096910       │ Bayern München - SC Freiburg  │\n",
       "│ 46580 │ 187096910       │ Bayern München - SC Freiburg  │\n",
       "│ 46581 │ 187096910       │ Bayern München - SC Freiburg  │\n",
       "│ 46582 │ 187096910       │ Bayern München - SC Freiburg  │\n",
       "│ 46583 │ 187096910       │ Bayern München - SC Freiburg  │\n",
       "│ 46584 │ 187096910       │ Bayern München - SC Freiburg  │\n",
       "│ 46585 │ 187096910       │ Bayern München - SC Freiburg  │\n",
       "│ 46586 │ 187096910       │ Bayern München - SC Freiburg  │\n",
       "│ 46587 │ 187096910       │ Bayern München - SC Freiburg  │\n",
       "│ 46588 │ 187096910       │ Bayern München - SC Freiburg  │"
      ]
     },
     "execution_count": 75,
     "metadata": {},
     "output_type": "execute_result"
    }
   ],
   "source": [
    "dt = CSV.read(\"bundesliga.csv\")"
   ]
  },
  {
   "cell_type": "code",
   "execution_count": 76,
   "metadata": {},
   "outputs": [
    {
     "data": {
      "text/html": [
       "<table class=\"data-frame\"><thead><tr><th></th><th>programevent_id</th><th>name_de</th><th>eventbegin</th><th>channel</th><th>market</th><th>turnover</th></tr></thead><tbody><tr><th>1</th><td>33954710</td><td>Schalke 04 - VfL Wolfsburg</td><td>2009-09-18 20:30:00</td><td>Retail</td><td>standard</td><td>17795.0</td></tr><tr><th>2</th><td>33954710</td><td>Schalke 04 - VfL Wolfsburg</td><td>2009-09-18 20:30:00</td><td>Retail</td><td>double-chance</td><td>4950.0</td></tr><tr><th>3</th><td>33954710</td><td>Schalke 04 - VfL Wolfsburg</td><td>2009-09-18 20:30:00</td><td>Retail</td><td>next-point</td><td>4211.0</td></tr><tr><th>4</th><td>33954710</td><td>Schalke 04 - VfL Wolfsburg</td><td>2009-09-18 20:30:00</td><td>Retail</td><td>points-more-less-than</td><td>2031.0</td></tr><tr><th>5</th><td>33954710</td><td>Schalke 04 - VfL Wolfsburg</td><td>2009-09-18 20:30:00</td><td>Retail</td><td>points-more-less-rest</td><td>2587.0</td></tr><tr><th>6</th><td>33954710</td><td>Schalke 04 - VfL Wolfsburg</td><td>2009-09-18 20:30:00</td><td>Retail</td><td>points-more-less-rest-halftime</td><td>1304.0</td></tr></tbody></table>"
      ],
      "text/plain": [
       "6×6 DataFrame. Omitted printing of 3 columns\n",
       "│ Row │ programevent_id │ name_de                    │ eventbegin          │\n",
       "├─────┼─────────────────┼────────────────────────────┼─────────────────────┤\n",
       "│ 1   │ 33954710        │ Schalke 04 - VfL Wolfsburg │ 2009-09-18 20:30:00 │\n",
       "│ 2   │ 33954710        │ Schalke 04 - VfL Wolfsburg │ 2009-09-18 20:30:00 │\n",
       "│ 3   │ 33954710        │ Schalke 04 - VfL Wolfsburg │ 2009-09-18 20:30:00 │\n",
       "│ 4   │ 33954710        │ Schalke 04 - VfL Wolfsburg │ 2009-09-18 20:30:00 │\n",
       "│ 5   │ 33954710        │ Schalke 04 - VfL Wolfsburg │ 2009-09-18 20:30:00 │\n",
       "│ 6   │ 33954710        │ Schalke 04 - VfL Wolfsburg │ 2009-09-18 20:30:00 │"
      ]
     },
     "execution_count": 76,
     "metadata": {},
     "output_type": "execute_result"
    }
   ],
   "source": [
    "head(dt)"
   ]
  },
  {
   "cell_type": "code",
   "execution_count": 77,
   "metadata": {},
   "outputs": [
    {
     "data": {
      "text/html": [
       "<table class=\"data-frame\"><thead><tr><th></th><th>variable</th><th>mean</th><th>min</th><th>median</th><th>max</th><th>nunique</th><th>nmissing</th><th>eltype</th></tr></thead><tbody><tr><th>1</th><td>programevent_id</td><td>1.28615e8</td><td>33954710</td><td>1.27123e8</td><td>187097810</td><td></td><td>0</td><td>Int64</td></tr><tr><th>2</th><td>name_de</td><td></td><td>Schalke 04 - VfL Wolfsburg</td><td></td><td>FC Ingolstadt -   Schalke 04</td><td>950</td><td>0</td><td>CategoricalString{UInt32}</td></tr><tr><th>3</th><td>eventbegin</td><td></td><td>2009-09-18 20:30:00</td><td></td><td>2017-05-20 15:35:08</td><td>1639</td><td>0</td><td>CategoricalString{UInt32}</td></tr><tr><th>4</th><td>channel</td><td></td><td>Retail</td><td></td><td>Online</td><td>2</td><td>0</td><td>CategoricalString{UInt32}</td></tr><tr><th>5</th><td>market</td><td></td><td>standard</td><td></td><td>team-to-win-either-half</td><td>75</td><td>0</td><td>CategoricalString{UInt32}</td></tr><tr><th>6</th><td>turnover</td><td>9922.73</td><td>1001.0</td><td>3273.0</td><td>314338.0</td><td></td><td>0</td><td>Float64</td></tr></tbody></table>"
      ],
      "text/plain": [
       "6×8 DataFrame. Omitted printing of 4 columns\n",
       "│ Row │ variable        │ mean      │ min                        │ median    │\n",
       "├─────┼─────────────────┼───────────┼────────────────────────────┼───────────┤\n",
       "│ 1   │ programevent_id │ 1.28615e8 │ 33954710                   │ 1.27123e8 │\n",
       "│ 2   │ name_de         │           │ Schalke 04 - VfL Wolfsburg │           │\n",
       "│ 3   │ eventbegin      │           │ 2009-09-18 20:30:00        │           │\n",
       "│ 4   │ channel         │           │ Retail                     │           │\n",
       "│ 5   │ market          │           │ standard                   │           │\n",
       "│ 6   │ turnover        │ 9922.73   │ 1001.0                     │ 3273.0    │"
      ]
     },
     "execution_count": 77,
     "metadata": {},
     "output_type": "execute_result"
    }
   ],
   "source": [
    "describe(dt)"
   ]
  },
  {
   "cell_type": "code",
   "execution_count": 78,
   "metadata": {},
   "outputs": [
    {
     "data": {
      "text/plain": [
       "6-element Array{Symbol,1}:\n",
       " :programevent_id\n",
       " :name_de        \n",
       " :eventbegin     \n",
       " :channel        \n",
       " :market         \n",
       " :turnover       "
      ]
     },
     "execution_count": 78,
     "metadata": {},
     "output_type": "execute_result"
    }
   ],
   "source": [
    "names(dt)"
   ]
  },
  {
   "cell_type": "code",
   "execution_count": 79,
   "metadata": {},
   "outputs": [
    {
     "data": {
      "text/plain": [
       "(46588, 6)"
      ]
     },
     "execution_count": 79,
     "metadata": {},
     "output_type": "execute_result"
    }
   ],
   "source": [
    "size(dt)"
   ]
  },
  {
   "cell_type": "code",
   "execution_count": 80,
   "metadata": {},
   "outputs": [
    {
     "data": {
      "text/plain": [
       "950-element Array{Union{Missing, String},1}:\n",
       " \"Schalke 04 - VfL Wolfsburg\"          \n",
       " \"Bay. München - 1. FC Nürnberg\"       \n",
       " \"Bor. M'gladbach - Bay. München\"      \n",
       " \"Hoffenheim - Hannover 96\"            \n",
       " \"1. FC Nürnberg - Hertha BSC\"         \n",
       " \"FC Schalke 04 - VfB Stuttgart\"       \n",
       " \"SC Freiburg - FC Augsburg\"           \n",
       " \"VfL Wolfsburg - 1.FC Köln\"           \n",
       " \"Kaiserslautern - Werder Bremen\"      \n",
       " \"Hamburger SV - Bor. Dortmund\"        \n",
       " \"Bayer Leverkusen - FSV Mainz 05\"     \n",
       " \"Hannover 96 - 1. FC Nürnberg\"        \n",
       " \"Bayern München - Wolfsburg\"          \n",
       " ⋮                                     \n",
       " \"E. Frankfurt - Wolfsburg\"            \n",
       " \"Hertha BSC - RB Leipzig\"             \n",
       " \"SC Freiburg  - Schalke 04 \"          \n",
       " \"SV Darmstadt 98 - Hertha BSC  \"      \n",
       " \"SC Freiburg  - FC Ingolstadt\"        \n",
       " \"RB Leipzig - Bayern München\"         \n",
       " \"VfL Wolfsburg - Borussia M'gladbach \"\n",
       " \"Eintracht Frankfurt - RB Leipzig\"    \n",
       " \"1899 Hoffenheim -   FC Augsburg  \"   \n",
       " \"Hamburger SV - VfL Wolfsburg  \"      \n",
       " \"Hertha BSC - Bayer Leverkusen  \"     \n",
       " \"FC Ingolstadt -   Schalke 04\"        "
      ]
     },
     "execution_count": 80,
     "metadata": {},
     "output_type": "execute_result"
    }
   ],
   "source": [
    "unique(dt[:name_de])"
   ]
  },
  {
   "cell_type": "code",
   "execution_count": 81,
   "metadata": {},
   "outputs": [
    {
     "data": {
      "text/plain": [
       "get_participants_from_event (generic function with 1 method)"
      ]
     },
     "execution_count": 81,
     "metadata": {},
     "output_type": "execute_result"
    }
   ],
   "source": [
    "function get_participants_from_event(col::CategoricalArray)\n",
    "    a = []\n",
    "    b = []\n",
    "    for row in col\n",
    "        x, y = split(row, \" - \")\n",
    "        push!(a, x)\n",
    "        push!(b, y)\n",
    "    end\n",
    "    return a, b\n",
    "end"
   ]
  },
  {
   "cell_type": "code",
   "execution_count": 82,
   "metadata": {},
   "outputs": [
    {
     "data": {
      "text/plain": [
       "(Any[\"Schalke 04\", \"Schalke 04\", \"Schalke 04\", \"Schalke 04\", \"Schalke 04\", \"Schalke 04\", \"Schalke 04\", \"Bay. München\", \"Bay. München\", \"Bay. München\"  …  \"Bayern München\", \"Bayern München\", \"Bayern München\", \"Bayern München\", \"Bayern München\", \"Bayern München\", \"Bayern München\", \"Bayern München\", \"Bayern München\", \"Bayern München\"], Any[\"VfL Wolfsburg\", \"VfL Wolfsburg\", \"VfL Wolfsburg\", \"VfL Wolfsburg\", \"VfL Wolfsburg\", \"VfL Wolfsburg\", \"VfL Wolfsburg\", \"1. FC Nürnberg\", \"1. FC Nürnberg\", \"1. FC Nürnberg\"  …  \"SC Freiburg\", \"SC Freiburg\", \"SC Freiburg\", \"SC Freiburg\", \"SC Freiburg\", \"SC Freiburg\", \"SC Freiburg\", \"SC Freiburg\", \"SC Freiburg\", \"SC Freiburg\"])"
      ]
     },
     "execution_count": 82,
     "metadata": {},
     "output_type": "execute_result"
    }
   ],
   "source": [
    "a, b = get_participants_from_event(dt[:name_de])"
   ]
  },
  {
   "cell_type": "code",
   "execution_count": 83,
   "metadata": {},
   "outputs": [
    {
     "data": {
      "text/plain": [
       "46588-element Array{Any,1}:\n",
       " \"Schalke 04\"    \n",
       " \"Schalke 04\"    \n",
       " \"Schalke 04\"    \n",
       " \"Schalke 04\"    \n",
       " \"Schalke 04\"    \n",
       " \"Schalke 04\"    \n",
       " \"Schalke 04\"    \n",
       " \"Bay. München\"  \n",
       " \"Bay. München\"  \n",
       " \"Bay. München\"  \n",
       " \"Bay. München\"  \n",
       " \"Bay. München\"  \n",
       " \"Bay. München\"  \n",
       " ⋮               \n",
       " \"Bayern München\"\n",
       " \"Bayern München\"\n",
       " \"Bayern München\"\n",
       " \"Bayern München\"\n",
       " \"Bayern München\"\n",
       " \"Bayern München\"\n",
       " \"Bayern München\"\n",
       " \"Bayern München\"\n",
       " \"Bayern München\"\n",
       " \"Bayern München\"\n",
       " \"Bayern München\"\n",
       " \"Bayern München\""
      ]
     },
     "execution_count": 83,
     "metadata": {},
     "output_type": "execute_result"
    }
   ],
   "source": [
    "dt[:participant_a] = a"
   ]
  },
  {
   "cell_type": "code",
   "execution_count": 84,
   "metadata": {},
   "outputs": [
    {
     "data": {
      "text/plain": [
       "46588-element Array{Any,1}:\n",
       " \"VfL Wolfsburg\" \n",
       " \"VfL Wolfsburg\" \n",
       " \"VfL Wolfsburg\" \n",
       " \"VfL Wolfsburg\" \n",
       " \"VfL Wolfsburg\" \n",
       " \"VfL Wolfsburg\" \n",
       " \"VfL Wolfsburg\" \n",
       " \"1. FC Nürnberg\"\n",
       " \"1. FC Nürnberg\"\n",
       " \"1. FC Nürnberg\"\n",
       " \"1. FC Nürnberg\"\n",
       " \"1. FC Nürnberg\"\n",
       " \"1. FC Nürnberg\"\n",
       " ⋮               \n",
       " \"SC Freiburg\"   \n",
       " \"SC Freiburg\"   \n",
       " \"SC Freiburg\"   \n",
       " \"SC Freiburg\"   \n",
       " \"SC Freiburg\"   \n",
       " \"SC Freiburg\"   \n",
       " \"SC Freiburg\"   \n",
       " \"SC Freiburg\"   \n",
       " \"SC Freiburg\"   \n",
       " \"SC Freiburg\"   \n",
       " \"SC Freiburg\"   \n",
       " \"SC Freiburg\"   "
      ]
     },
     "execution_count": 84,
     "metadata": {},
     "output_type": "execute_result"
    }
   ],
   "source": [
    "dt[:participant_b] = b"
   ]
  },
  {
   "cell_type": "code",
   "execution_count": 85,
   "metadata": {},
   "outputs": [
    {
     "data": {
      "text/html": [
       "<table class=\"data-frame\"><thead><tr><th></th><th>programevent_id</th><th>name_de</th><th>eventbegin</th><th>channel</th><th>market</th><th>turnover</th><th>participant_a</th><th>participant_b</th></tr></thead><tbody><tr><th>1</th><td>33954710</td><td>Schalke 04 - VfL Wolfsburg</td><td>2009-09-18 20:30:00</td><td>Retail</td><td>standard</td><td>17795.0</td><td>Schalke 04</td><td>VfL Wolfsburg</td></tr><tr><th>2</th><td>33954710</td><td>Schalke 04 - VfL Wolfsburg</td><td>2009-09-18 20:30:00</td><td>Retail</td><td>double-chance</td><td>4950.0</td><td>Schalke 04</td><td>VfL Wolfsburg</td></tr><tr><th>3</th><td>33954710</td><td>Schalke 04 - VfL Wolfsburg</td><td>2009-09-18 20:30:00</td><td>Retail</td><td>next-point</td><td>4211.0</td><td>Schalke 04</td><td>VfL Wolfsburg</td></tr><tr><th>4</th><td>33954710</td><td>Schalke 04 - VfL Wolfsburg</td><td>2009-09-18 20:30:00</td><td>Retail</td><td>points-more-less-than</td><td>2031.0</td><td>Schalke 04</td><td>VfL Wolfsburg</td></tr><tr><th>5</th><td>33954710</td><td>Schalke 04 - VfL Wolfsburg</td><td>2009-09-18 20:30:00</td><td>Retail</td><td>points-more-less-rest</td><td>2587.0</td><td>Schalke 04</td><td>VfL Wolfsburg</td></tr><tr><th>6</th><td>33954710</td><td>Schalke 04 - VfL Wolfsburg</td><td>2009-09-18 20:30:00</td><td>Retail</td><td>points-more-less-rest-halftime</td><td>1304.0</td><td>Schalke 04</td><td>VfL Wolfsburg</td></tr></tbody></table>"
      ],
      "text/plain": [
       "6×8 DataFrame. Omitted printing of 5 columns\n",
       "│ Row │ programevent_id │ name_de                    │ eventbegin          │\n",
       "├─────┼─────────────────┼────────────────────────────┼─────────────────────┤\n",
       "│ 1   │ 33954710        │ Schalke 04 - VfL Wolfsburg │ 2009-09-18 20:30:00 │\n",
       "│ 2   │ 33954710        │ Schalke 04 - VfL Wolfsburg │ 2009-09-18 20:30:00 │\n",
       "│ 3   │ 33954710        │ Schalke 04 - VfL Wolfsburg │ 2009-09-18 20:30:00 │\n",
       "│ 4   │ 33954710        │ Schalke 04 - VfL Wolfsburg │ 2009-09-18 20:30:00 │\n",
       "│ 5   │ 33954710        │ Schalke 04 - VfL Wolfsburg │ 2009-09-18 20:30:00 │\n",
       "│ 6   │ 33954710        │ Schalke 04 - VfL Wolfsburg │ 2009-09-18 20:30:00 │"
      ]
     },
     "execution_count": 85,
     "metadata": {},
     "output_type": "execute_result"
    }
   ],
   "source": [
    "head(dt)"
   ]
  },
  {
   "cell_type": "code",
   "execution_count": 86,
   "metadata": {},
   "outputs": [
    {
     "data": {
      "text/html": [
       "<table class=\"data-frame\"><thead><tr><th></th><th>programevent_id</th><th>eventbegin</th><th>channel</th><th>market</th><th>turnover</th><th>participant_a</th><th>participant_b</th></tr></thead><tbody><tr><th>1</th><td>33954710</td><td>2009-09-18 20:30:00</td><td>Retail</td><td>standard</td><td>17795.0</td><td>Schalke 04</td><td>VfL Wolfsburg</td></tr><tr><th>2</th><td>33954710</td><td>2009-09-18 20:30:00</td><td>Retail</td><td>double-chance</td><td>4950.0</td><td>Schalke 04</td><td>VfL Wolfsburg</td></tr><tr><th>3</th><td>33954710</td><td>2009-09-18 20:30:00</td><td>Retail</td><td>next-point</td><td>4211.0</td><td>Schalke 04</td><td>VfL Wolfsburg</td></tr><tr><th>4</th><td>33954710</td><td>2009-09-18 20:30:00</td><td>Retail</td><td>points-more-less-than</td><td>2031.0</td><td>Schalke 04</td><td>VfL Wolfsburg</td></tr><tr><th>5</th><td>33954710</td><td>2009-09-18 20:30:00</td><td>Retail</td><td>points-more-less-rest</td><td>2587.0</td><td>Schalke 04</td><td>VfL Wolfsburg</td></tr><tr><th>6</th><td>33954710</td><td>2009-09-18 20:30:00</td><td>Retail</td><td>points-more-less-rest-halftime</td><td>1304.0</td><td>Schalke 04</td><td>VfL Wolfsburg</td></tr><tr><th>7</th><td>33954710</td><td>2009-09-18 20:30:00</td><td>Retail</td><td>standard-rest</td><td>1351.0</td><td>Schalke 04</td><td>VfL Wolfsburg</td></tr><tr><th>8</th><td>33954810</td><td>2009-09-19 15:30:00</td><td>Retail</td><td>points-more-less-rest</td><td>2587.0</td><td>Bay. München</td><td>1. FC Nürnberg</td></tr><tr><th>9</th><td>33954810</td><td>2009-09-19 15:30:00</td><td>Retail</td><td>standard</td><td>27826.0</td><td>Bay. München</td><td>1. FC Nürnberg</td></tr><tr><th>10</th><td>33954810</td><td>2009-09-19 15:30:00</td><td>Retail</td><td>section-win</td><td>1061.0</td><td>Bay. München</td><td>1. FC Nürnberg</td></tr><tr><th>11</th><td>33954810</td><td>2009-09-19 15:30:00</td><td>Retail</td><td>standard-rest</td><td>2090.0</td><td>Bay. München</td><td>1. FC Nürnberg</td></tr><tr><th>12</th><td>33954810</td><td>2009-09-19 15:30:00</td><td>Retail</td><td>points-more-less-than</td><td>1821.0</td><td>Bay. München</td><td>1. FC Nürnberg</td></tr><tr><th>13</th><td>33954810</td><td>2009-09-19 15:30:00</td><td>Retail</td><td>handicap</td><td>3025.0</td><td>Bay. München</td><td>1. FC Nürnberg</td></tr><tr><th>14</th><td>33954810</td><td>2009-09-19 15:30:00</td><td>Retail</td><td>next-point</td><td>4429.0</td><td>Bay. München</td><td>1. FC Nürnberg</td></tr><tr><th>15</th><td>66815510</td><td>2012-01-20 20:33:21</td><td>Online</td><td>goal-scorer-team-wins</td><td>1301.0</td><td>Bor. M'gladbach</td><td>Bay. München</td></tr><tr><th>16</th><td>66815510</td><td>2012-01-20 20:33:21</td><td>Retail</td><td>point-bet</td><td>1629.0</td><td>Bor. M'gladbach</td><td>Bay. München</td></tr><tr><th>17</th><td>66815510</td><td>2012-01-20 20:33:21</td><td>Online</td><td>points-more-less-rest</td><td>7511.0</td><td>Bor. M'gladbach</td><td>Bay. München</td></tr><tr><th>18</th><td>66815510</td><td>2012-01-20 20:33:21</td><td>Retail</td><td>standard</td><td>55345.0</td><td>Bor. M'gladbach</td><td>Bay. München</td></tr><tr><th>19</th><td>66815510</td><td>2012-01-20 20:33:21</td><td>Online</td><td>next-corner-kick</td><td>1611.0</td><td>Bor. M'gladbach</td><td>Bay. München</td></tr><tr><th>20</th><td>66815510</td><td>2012-01-20 20:33:21</td><td>Online</td><td>points-more-less-rest-halftime</td><td>1286.0</td><td>Bor. M'gladbach</td><td>Bay. München</td></tr><tr><th>21</th><td>66815510</td><td>2012-01-20 20:33:21</td><td>Online</td><td>standard-rest</td><td>4153.0</td><td>Bor. M'gladbach</td><td>Bay. München</td></tr><tr><th>22</th><td>66815510</td><td>2012-01-20 20:33:21</td><td>Online</td><td>minutes-foul</td><td>1777.0</td><td>Bor. M'gladbach</td><td>Bay. München</td></tr><tr><th>23</th><td>66815510</td><td>2012-01-20 20:33:21</td><td>Online</td><td>handicap</td><td>5751.0</td><td>Bor. M'gladbach</td><td>Bay. München</td></tr><tr><th>24</th><td>66815510</td><td>2012-01-20 20:33:21</td><td>Online</td><td>yellow-cards-more-less-rest</td><td>1224.0</td><td>Bor. M'gladbach</td><td>Bay. München</td></tr><tr><th>25</th><td>66815510</td><td>2012-01-20 20:33:21</td><td>Online</td><td>next-point-halftime</td><td>1418.0</td><td>Bor. M'gladbach</td><td>Bay. München</td></tr><tr><th>26</th><td>66815510</td><td>2012-01-20 20:33:21</td><td>Retail</td><td>corner-kicks-more-less-rest</td><td>1238.0</td><td>Bor. M'gladbach</td><td>Bay. München</td></tr><tr><th>27</th><td>66815510</td><td>2012-01-20 20:33:21</td><td>Retail</td><td>injury-time-more-less-than</td><td>1371.0</td><td>Bor. M'gladbach</td><td>Bay. München</td></tr><tr><th>28</th><td>66815510</td><td>2012-01-20 20:33:21</td><td>Retail</td><td>section-win</td><td>2336.0</td><td>Bor. M'gladbach</td><td>Bay. München</td></tr><tr><th>29</th><td>66815510</td><td>2012-01-20 20:33:21</td><td>Online</td><td>next-point</td><td>7623.0</td><td>Bor. M'gladbach</td><td>Bay. München</td></tr><tr><th>30</th><td>66815510</td><td>2012-01-20 20:33:21</td><td>Online</td><td>section-win</td><td>1739.0</td><td>Bor. M'gladbach</td><td>Bay. München</td></tr><tr><th>&vellip;</th><td>&vellip;</td><td>&vellip;</td><td>&vellip;</td><td>&vellip;</td><td>&vellip;</td><td>&vellip;</td><td>&vellip;</td></tr></tbody></table>"
      ],
      "text/plain": [
       "46588×7 DataFrame. Omitted printing of 4 columns\n",
       "│ Row   │ programevent_id │ eventbegin          │ channel │\n",
       "├───────┼─────────────────┼─────────────────────┼─────────┤\n",
       "│ 1     │ 33954710        │ 2009-09-18 20:30:00 │ Retail  │\n",
       "│ 2     │ 33954710        │ 2009-09-18 20:30:00 │ Retail  │\n",
       "│ 3     │ 33954710        │ 2009-09-18 20:30:00 │ Retail  │\n",
       "│ 4     │ 33954710        │ 2009-09-18 20:30:00 │ Retail  │\n",
       "│ 5     │ 33954710        │ 2009-09-18 20:30:00 │ Retail  │\n",
       "│ 6     │ 33954710        │ 2009-09-18 20:30:00 │ Retail  │\n",
       "│ 7     │ 33954710        │ 2009-09-18 20:30:00 │ Retail  │\n",
       "│ 8     │ 33954810        │ 2009-09-19 15:30:00 │ Retail  │\n",
       "│ 9     │ 33954810        │ 2009-09-19 15:30:00 │ Retail  │\n",
       "│ 10    │ 33954810        │ 2009-09-19 15:30:00 │ Retail  │\n",
       "│ 11    │ 33954810        │ 2009-09-19 15:30:00 │ Retail  │\n",
       "⋮\n",
       "│ 46577 │ 187096910       │ 2017-05-20 15:35:08 │ Online  │\n",
       "│ 46578 │ 187096910       │ 2017-05-20 15:35:08 │ Online  │\n",
       "│ 46579 │ 187096910       │ 2017-05-20 15:35:08 │ Retail  │\n",
       "│ 46580 │ 187096910       │ 2017-05-20 15:35:08 │ Online  │\n",
       "│ 46581 │ 187096910       │ 2017-05-20 15:35:08 │ Retail  │\n",
       "│ 46582 │ 187096910       │ 2017-05-20 15:35:08 │ Online  │\n",
       "│ 46583 │ 187096910       │ 2017-05-20 15:35:08 │ Online  │\n",
       "│ 46584 │ 187096910       │ 2017-05-20 15:35:08 │ Retail  │\n",
       "│ 46585 │ 187096910       │ 2017-05-20 15:35:08 │ Online  │\n",
       "│ 46586 │ 187096910       │ 2017-05-20 15:35:08 │ Online  │\n",
       "│ 46587 │ 187096910       │ 2017-05-20 15:35:08 │ Online  │\n",
       "│ 46588 │ 187096910       │ 2017-05-20 15:35:08 │ Online  │"
      ]
     },
     "execution_count": 86,
     "metadata": {},
     "output_type": "execute_result"
    }
   ],
   "source": [
    "dt = delete!(dt, :name_de)"
   ]
  },
  {
   "cell_type": "code",
   "execution_count": 87,
   "metadata": {},
   "outputs": [
    {
     "data": {
      "text/plain": [
       "55-element Array{Any,1}:\n",
       " \"Schalke 04\"      \n",
       " \"Bay. München\"    \n",
       " \"Bor. M'gladbach\" \n",
       " \"Hoffenheim\"      \n",
       " \"1. FC Nürnberg\"  \n",
       " \"FC Schalke 04\"   \n",
       " \"SC Freiburg\"     \n",
       " \"VfL Wolfsburg\"   \n",
       " \"Kaiserslautern\"  \n",
       " \"Hamburger SV\"    \n",
       " \"Bayer Leverkusen\"\n",
       " \"Hannover 96\"     \n",
       " \"Bayern München\"  \n",
       " ⋮                 \n",
       " \"SC Paderborn\"    \n",
       " \"Paderborn\"       \n",
       " \"Wolfsburg\"       \n",
       " \"FSV Mainz\"       \n",
       " \"SV Darmstadt 98\" \n",
       " \" Wolfsburg\"      \n",
       " \"FC Ingolstadt\"   \n",
       " \"Ingolstadt\"      \n",
       " \"E. Frankfurt\"    \n",
       " \"SC Freiburg \"    \n",
       " \"RB Leipzig\"      \n",
       " \"Freiburg \"       "
      ]
     },
     "execution_count": 87,
     "metadata": {},
     "output_type": "execute_result"
    }
   ],
   "source": [
    "unique(dt[:participant_a])"
   ]
  },
  {
   "cell_type": "code",
   "execution_count": 88,
   "metadata": {},
   "outputs": [
    {
     "data": {
      "text/plain": [
       "119-element Array{Any,1}:\n",
       " \"VfL Wolfsburg\"    \n",
       " \"1. FC Nürnberg\"   \n",
       " \"Bay. München\"     \n",
       " \"Hannover 96\"      \n",
       " \"Hertha BSC\"       \n",
       " \"VfB Stuttgart\"    \n",
       " \"FC Augsburg\"      \n",
       " \"1.FC Köln\"        \n",
       " \"Werder Bremen\"    \n",
       " \"Bor. Dortmund\"    \n",
       " \"FSV Mainz 05\"     \n",
       " \"Wolfsburg\"        \n",
       " \"Kaiserslautern\"   \n",
       " ⋮                  \n",
       " \"1.FC Köln  \"      \n",
       " \"Wolfsburg  \"      \n",
       " \"1899 Hoffenheim  \"\n",
       " \"FC Ingolstadt  \"  \n",
       " \"B. M'gladbach \"   \n",
       " \"RB Leipzig\"       \n",
       " \"RB Leipzig \"      \n",
       " \"Ingolstadt \"      \n",
       " \"Augsburg \"        \n",
       " \"  FC Augsburg  \"  \n",
       " \"VfL Wolfsburg  \"  \n",
       " \"  Schalke 04\"     "
      ]
     },
     "execution_count": 88,
     "metadata": {},
     "output_type": "execute_result"
    }
   ],
   "source": [
    "unique(dt[:participant_b])"
   ]
  },
  {
   "cell_type": "code",
   "execution_count": 94,
   "metadata": {},
   "outputs": [
    {
     "data": {
      "text/plain": [
       "116-element Array{Any,1}:\n",
       " \"Bayern München\"\n",
       " \"Bayern München\"\n",
       " \"Bayern München\"\n",
       " \"Bayern München\"\n",
       " \"Bayern München\"\n",
       " \"Bayern München\"\n",
       " \"Bayern München\"\n",
       " \"Bayern München\"\n",
       " \"Bayern München\"\n",
       " \"Bayern München\"\n",
       " \"Bayern München\"\n",
       " \"Bayern München\"\n",
       " \"Bayern München\"\n",
       " ⋮               \n",
       " \"Bayern München\"\n",
       " \"Bayern München\"\n",
       " \"Bayern München\"\n",
       " \"Bayern München\"\n",
       " \"Bayern München\"\n",
       " \"Bayern München\"\n",
       " \"Bayern München\"\n",
       " \"Bayern München\"\n",
       " \"Bayern München\"\n",
       " \"Bayern München\"\n",
       " \"Bayern München\"\n",
       " \"Bayern München\""
      ]
     },
     "execution_count": 94,
     "metadata": {},
     "output_type": "execute_result"
    }
   ],
   "source": [
    "dt[dt[:participant_b] .== \"Bay. München\", :][:participant_b] .= \"Bayern München\""
   ]
  },
  {
   "cell_type": "code",
   "execution_count": 95,
   "metadata": {},
   "outputs": [
    {
     "data": {
      "text/plain": [
       "116-element Array{Any,1}:\n",
       " \"Bay. München\"\n",
       " \"Bay. München\"\n",
       " \"Bay. München\"\n",
       " \"Bay. München\"\n",
       " \"Bay. München\"\n",
       " \"Bay. München\"\n",
       " \"Bay. München\"\n",
       " \"Bay. München\"\n",
       " \"Bay. München\"\n",
       " \"Bay. München\"\n",
       " \"Bay. München\"\n",
       " \"Bay. München\"\n",
       " \"Bay. München\"\n",
       " ⋮             \n",
       " \"Bay. München\"\n",
       " \"Bay. München\"\n",
       " \"Bay. München\"\n",
       " \"Bay. München\"\n",
       " \"Bay. München\"\n",
       " \"Bay. München\"\n",
       " \"Bay. München\"\n",
       " \"Bay. München\"\n",
       " \"Bay. München\"\n",
       " \"Bay. München\"\n",
       " \"Bay. München\"\n",
       " \"Bay. München\""
      ]
     },
     "execution_count": 95,
     "metadata": {},
     "output_type": "execute_result"
    }
   ],
   "source": [
    "dt[dt[:participant_b] .== \"Bay. München\", :][:participant_b]"
   ]
  },
  {
   "cell_type": "code",
   "execution_count": 90,
   "metadata": {},
   "outputs": [
    {
     "data": {
      "text/plain": [
       "119-element Array{Any,1}:\n",
       " \"VfL Wolfsburg\"    \n",
       " \"1. FC Nürnberg\"   \n",
       " \"Bay. München\"     \n",
       " \"Hannover 96\"      \n",
       " \"Hertha BSC\"       \n",
       " \"VfB Stuttgart\"    \n",
       " \"FC Augsburg\"      \n",
       " \"1.FC Köln\"        \n",
       " \"Werder Bremen\"    \n",
       " \"Bor. Dortmund\"    \n",
       " \"FSV Mainz 05\"     \n",
       " \"Wolfsburg\"        \n",
       " \"Kaiserslautern\"   \n",
       " ⋮                  \n",
       " \"1.FC Köln  \"      \n",
       " \"Wolfsburg  \"      \n",
       " \"1899 Hoffenheim  \"\n",
       " \"FC Ingolstadt  \"  \n",
       " \"B. M'gladbach \"   \n",
       " \"RB Leipzig\"       \n",
       " \"RB Leipzig \"      \n",
       " \"Ingolstadt \"      \n",
       " \"Augsburg \"        \n",
       " \"  FC Augsburg  \"  \n",
       " \"VfL Wolfsburg  \"  \n",
       " \"  Schalke 04\"     "
      ]
     },
     "execution_count": 90,
     "metadata": {},
     "output_type": "execute_result"
    }
   ],
   "source": [
    "unique(dt[:participant_b])"
   ]
  },
  {
   "cell_type": "code",
   "execution_count": 96,
   "metadata": {},
   "outputs": [
    {
     "data": {
      "text/plain": [
       "rename_col (generic function with 1 method)"
      ]
     },
     "execution_count": 96,
     "metadata": {},
     "output_type": "execute_result"
    }
   ],
   "source": [
    "function rename_col(dt, old, new)\n",
    "   foreach(i -> dt[i] == new && (dt[i] = old), eachindex(dt))\n",
    "end"
   ]
  },
  {
   "cell_type": "code",
   "execution_count": 98,
   "metadata": {},
   "outputs": [],
   "source": [
    "rename_col(dt[:participant_b], \"Bay. München\", \"Bayern München\")"
   ]
  },
  {
   "cell_type": "code",
   "execution_count": 99,
   "metadata": {},
   "outputs": [
    {
     "data": {
      "text/plain": [
       "118-element Array{Any,1}:\n",
       " \"VfL Wolfsburg\"    \n",
       " \"1. FC Nürnberg\"   \n",
       " \"Bay. München\"     \n",
       " \"Hannover 96\"      \n",
       " \"Hertha BSC\"       \n",
       " \"VfB Stuttgart\"    \n",
       " \"FC Augsburg\"      \n",
       " \"1.FC Köln\"        \n",
       " \"Werder Bremen\"    \n",
       " \"Bor. Dortmund\"    \n",
       " \"FSV Mainz 05\"     \n",
       " \"Wolfsburg\"        \n",
       " \"Kaiserslautern\"   \n",
       " ⋮                  \n",
       " \"1.FC Köln  \"      \n",
       " \"Wolfsburg  \"      \n",
       " \"1899 Hoffenheim  \"\n",
       " \"FC Ingolstadt  \"  \n",
       " \"B. M'gladbach \"   \n",
       " \"RB Leipzig\"       \n",
       " \"RB Leipzig \"      \n",
       " \"Ingolstadt \"      \n",
       " \"Augsburg \"        \n",
       " \"  FC Augsburg  \"  \n",
       " \"VfL Wolfsburg  \"  \n",
       " \"  Schalke 04\"     "
      ]
     },
     "execution_count": 99,
     "metadata": {},
     "output_type": "execute_result"
    }
   ],
   "source": [
    "unique(dt[:participant_b])"
   ]
  },
  {
   "cell_type": "code",
   "execution_count": 105,
   "metadata": {},
   "outputs": [
    {
     "data": {
      "text/plain": [
       "GroupedDataFrame  75 groups with keys: Symbol[:market]\n",
       "First Group:\n",
       "3378×7 SubDataFrame{Array{Int64,1}}. Omitted printing of 2 columns\n",
       "│ Row  │ programevent_id │ eventbegin          │ channel │ market   │ turnover │\n",
       "├──────┼─────────────────┼─────────────────────┼─────────┼──────────┼──────────┤\n",
       "│ 1    │ 33954710        │ 2009-09-18 20:30:00 │ Retail  │ standard │ 17795.0  │\n",
       "│ 2    │ 33954810        │ 2009-09-19 15:30:00 │ Retail  │ standard │ 27826.0  │\n",
       "│ 3    │ 66815510        │ 2012-01-20 20:33:21 │ Retail  │ standard │ 55345.0  │\n",
       "│ 4    │ 66815510        │ 2012-01-20 20:33:21 │ Online  │ standard │ 55551.0  │\n",
       "│ 5    │ 66816910        │ 2012-01-21 15:30:08 │ Online  │ standard │ 15883.0  │\n",
       "│ 6    │ 66816910        │ 2012-01-21 15:30:08 │ Retail  │ standard │ 14969.0  │\n",
       "│ 7    │ 66815710        │ 2012-01-21 15:30:40 │ Online  │ standard │ 15007.0  │\n",
       "│ 8    │ 66815710        │ 2012-01-21 15:30:40 │ Retail  │ standard │ 12883.0  │\n",
       "│ 9    │ 66816610        │ 2012-01-21 15:30:56 │ Online  │ standard │ 24117.0  │\n",
       "│ 10   │ 66816610        │ 2012-01-21 15:30:56 │ Retail  │ standard │ 29616.0  │\n",
       "│ 11   │ 66816710        │ 2012-01-21 15:31:00 │ Retail  │ standard │ 15518.0  │\n",
       "⋮\n",
       "│ 3367 │ 187097710       │ 2017-05-20 15:30:19 │ Retail  │ standard │ 79133.0  │\n",
       "│ 3368 │ 187097710       │ 2017-05-20 15:30:19 │ Online  │ standard │ 125489.0 │\n",
       "│ 3369 │ 187097510       │ 2017-05-20 15:31:42 │ Online  │ standard │ 135334.0 │\n",
       "│ 3370 │ 187097510       │ 2017-05-20 15:31:42 │ Retail  │ standard │ 90326.0  │\n",
       "│ 3371 │ 187097310       │ 2017-05-20 15:32:00 │ Online  │ standard │ 96297.0  │\n",
       "│ 3372 │ 187097310       │ 2017-05-20 15:32:00 │ Retail  │ standard │ 74162.0  │\n",
       "│ 3373 │ 187097610       │ 2017-05-20 15:32:51 │ Retail  │ standard │ 52526.0  │\n",
       "│ 3374 │ 187097610       │ 2017-05-20 15:32:51 │ Online  │ standard │ 79877.0  │\n",
       "│ 3375 │ 187097110       │ 2017-05-20 15:33:01 │ Retail  │ standard │ 41032.0  │\n",
       "│ 3376 │ 187097110       │ 2017-05-20 15:33:01 │ Online  │ standard │ 73091.0  │\n",
       "│ 3377 │ 187096910       │ 2017-05-20 15:35:08 │ Retail  │ standard │ 33063.0  │\n",
       "│ 3378 │ 187096910       │ 2017-05-20 15:35:08 │ Online  │ standard │ 87528.0  │\n",
       "⋮\n",
       "Last Group:\n",
       "1×7 SubDataFrame{Array{Int64,1}}. Omitted printing of 4 columns\n",
       "│ Row │ programevent_id │ eventbegin          │ channel │\n",
       "├─────┼─────────────────┼─────────────────────┼─────────┤\n",
       "│ 1   │ 186559010       │ 2017-05-13 15:30:06 │ Online  │"
      ]
     },
     "execution_count": 105,
     "metadata": {},
     "output_type": "execute_result"
    }
   ],
   "source": [
    "gd = groupby(dt, :market, sort = true, skipmissing = false)"
   ]
  },
  {
   "cell_type": "code",
   "execution_count": 104,
   "metadata": {},
   "outputs": [
    {
     "ename": "LoadError",
     "evalue": "TypeError: non-boolean (Float64) used in boolean context",
     "output_type": "error",
     "traceback": [
      "TypeError: non-boolean (Float64) used in boolean context",
      "",
      "Stacktrace:",
      " [1] count at ./reduce.jl:696 [inlined]",
      " [2] count(::Base.SkipMissing{Array{Union{Missing, Float64},1}}) at ./reduce.jl:707",
      " [3] (::getfield(Main, Symbol(\"##15#16\")))(::SubDataFrame{Array{Int64,1}}) at ./In[104]:1",
      " [4] (::getfield(DataFrames, Symbol(\"##78#79\")){getfield(Main, Symbol(\"##15#16\"))})(::SubDataFrame{Array{Int64,1}}) at ./none:0",
      " [5] iterate at ./generator.jl:47 [inlined]",
      " [6] collect(::Base.Generator{GroupedDataFrame,getfield(DataFrames, Symbol(\"##78#79\")){getfield(Main, Symbol(\"##15#16\"))}}) at ./array.jl:619",
      " [7] map(::getfield(Main, Symbol(\"##15#16\")), ::GroupedDataFrame) at /Users/gabegm/.julia/packages/DataFrames/QYzTe/src/groupeddataframe/grouping.jl:159",
      " [8] top-level scope at none:0"
     ]
    }
   ],
   "source": [
    "map(d -> count(skipmissing(d[:turnover])), gd)  "
   ]
  },
  {
   "cell_type": "code",
   "execution_count": 119,
   "metadata": {},
   "outputs": [
    {
     "data": {
      "text/html": [
       "<table class=\"data-frame\"><thead><tr><th></th><th>market</th><th>x1</th></tr></thead><tbody><tr><th>1</th><td>standard</td><td>2.4081e8</td></tr><tr><th>2</th><td>double-chance</td><td>2.75655e7</td></tr><tr><th>3</th><td>next-point</td><td>2.14634e7</td></tr><tr><th>4</th><td>points-more-less-than</td><td>4.21358e7</td></tr><tr><th>5</th><td>points-more-less-rest</td><td>2.90921e7</td></tr><tr><th>6</th><td>points-more-less-rest-halftime</td><td>1.01469e7</td></tr><tr><th>7</th><td>standard-rest</td><td>1.17927e7</td></tr><tr><th>8</th><td>section-win</td><td>7.98385e6</td></tr><tr><th>9</th><td>handicap</td><td>3.19226e7</td></tr><tr><th>10</th><td>goal-scorer-team-wins</td><td>1.15261e6</td></tr><tr><th>11</th><td>point-bet</td><td>5.93075e6</td></tr><tr><th>12</th><td>next-corner-kick</td><td>861416.0</td></tr><tr><th>13</th><td>minutes-foul</td><td>163871.0</td></tr><tr><th>14</th><td>yellow-cards-more-less-rest</td><td>146031.0</td></tr><tr><th>15</th><td>next-point-halftime</td><td>6.71253e6</td></tr><tr><th>16</th><td>corner-kicks-more-less-rest</td><td>568065.0</td></tr><tr><th>17</th><td>injury-time-more-less-than</td><td>38686.0</td></tr><tr><th>18</th><td>halftime-fulltime</td><td>1.35591e6</td></tr><tr><th>19</th><td>goal-scorer</td><td>4.0988e6</td></tr><tr><th>20</th><td>minutes-offside</td><td>96311.0</td></tr><tr><th>21</th><td>minutes-goal-kick</td><td>49442.0</td></tr><tr><th>22</th><td>score-both</td><td>5.83326e6</td></tr><tr><th>23</th><td>penalty-scored-2</td><td>267391.0</td></tr><tr><th>24</th><td>penalty-scored-1</td><td>458775.0</td></tr><tr><th>25</th><td>corner-kicks-more-less-rest-ht</td><td>122558.0</td></tr><tr><th>26</th><td>corner-kicks-more-less-than</td><td>629849.0</td></tr><tr><th>27</th><td>standard-rest-halftime</td><td>1.16782e6</td></tr><tr><th>28</th><td>minutes-corner-kick</td><td>177056.0</td></tr><tr><th>29</th><td>more-corner-kicks</td><td>222591.0</td></tr><tr><th>30</th><td>section-points-more-less</td><td>2.86677e6</td></tr><tr><th>&vellip;</th><td>&vellip;</td><td>&vellip;</td></tr></tbody></table>"
      ],
      "text/plain": [
       "75×2 DataFrame\n",
       "│ Row │ market                         │ x1        │\n",
       "├─────┼────────────────────────────────┼───────────┤\n",
       "│ 1   │ standard                       │ 2.4081e8  │\n",
       "│ 2   │ double-chance                  │ 2.75655e7 │\n",
       "│ 3   │ next-point                     │ 2.14634e7 │\n",
       "│ 4   │ points-more-less-than          │ 4.21358e7 │\n",
       "│ 5   │ points-more-less-rest          │ 2.90921e7 │\n",
       "│ 6   │ points-more-less-rest-halftime │ 1.01469e7 │\n",
       "│ 7   │ standard-rest                  │ 1.17927e7 │\n",
       "│ 8   │ section-win                    │ 7.98385e6 │\n",
       "│ 9   │ handicap                       │ 3.19226e7 │\n",
       "│ 10  │ goal-scorer-team-wins          │ 1.15261e6 │\n",
       "│ 11  │ point-bet                      │ 5.93075e6 │\n",
       "⋮\n",
       "│ 64  │ team-scores-halftime           │ 18815.0   │\n",
       "│ 65  │ last-scorer                    │ 1925.0    │\n",
       "│ 66  │ team-to-win-to-nil             │ 16295.0   │\n",
       "│ 67  │ custom-point-yes-no            │ 45764.0   │\n",
       "│ 68  │ first-corner-kick              │ 2785.0    │\n",
       "│ 69  │ more-halftime-points           │ 9948.0    │\n",
       "│ 70  │ team-total-corners             │ 1773.0    │\n",
       "│ 71  │ correct-score-live             │ 182983.0  │\n",
       "│ 72  │ team-points-more-less          │ 497355.0  │\n",
       "│ 73  │ score-both-halves              │ 1332.0    │\n",
       "│ 74  │ custom-place-yes-no            │ 32546.0   │\n",
       "│ 75  │ team-to-win-either-half        │ 1439.0    │"
      ]
     },
     "execution_count": 119,
     "metadata": {},
     "output_type": "execute_result"
    }
   ],
   "source": [
    "by(dt, :market, df -> sum(df[:turnover]))"
   ]
  },
  {
   "cell_type": "code",
   "execution_count": 121,
   "metadata": {},
   "outputs": [
    {
     "name": "stdout",
     "output_type": "stream",
     "text": [
      "search: \u001b[0m\u001b[1mc\u001b[22m\u001b[0m\u001b[1mo\u001b[22m\u001b[0m\u001b[1mu\u001b[22m\u001b[0m\u001b[1mn\u001b[22m\u001b[0m\u001b[1mt\u001b[22m \u001b[0m\u001b[1mc\u001b[22m\u001b[0m\u001b[1mo\u001b[22m\u001b[0m\u001b[1mu\u001b[22m\u001b[0m\u001b[1mn\u001b[22m\u001b[0m\u001b[1mt\u001b[22mlines \u001b[0m\u001b[1mc\u001b[22m\u001b[0m\u001b[1mo\u001b[22m\u001b[0m\u001b[1mu\u001b[22m\u001b[0m\u001b[1mn\u001b[22m\u001b[0m\u001b[1mt\u001b[22m_ones \u001b[0m\u001b[1mc\u001b[22m\u001b[0m\u001b[1mo\u001b[22m\u001b[0m\u001b[1mu\u001b[22m\u001b[0m\u001b[1mn\u001b[22m\u001b[0m\u001b[1mt\u001b[22m_zeros field\u001b[0m\u001b[1mc\u001b[22m\u001b[0m\u001b[1mo\u001b[22m\u001b[0m\u001b[1mu\u001b[22m\u001b[0m\u001b[1mn\u001b[22m\u001b[0m\u001b[1mt\u001b[22m \u001b[0m\u001b[1mc\u001b[22m\u001b[0m\u001b[1mo\u001b[22mde\u001b[0m\u001b[1mu\u001b[22m\u001b[0m\u001b[1mn\u001b[22mi\u001b[0m\u001b[1mt\u001b[22ms \u001b[0m\u001b[1mc\u001b[22m\u001b[0m\u001b[1mo\u001b[22mde\u001b[0m\u001b[1mu\u001b[22m\u001b[0m\u001b[1mn\u001b[22mi\u001b[0m\u001b[1mt\u001b[22m\n",
      "\n",
      "Couldn't find \u001b[36mcountdf\u001b[39m\n",
      "Perhaps you meant count, cotd, round or conj\n"
     ]
    },
    {
     "data": {
      "text/markdown": [
       "No documentation found.\n",
       "\n",
       "Binding `countdf` does not exist.\n"
      ],
      "text/plain": [
       "  No documentation found.\n",
       "\n",
       "  Binding \u001b[36mcountdf\u001b[39m does not exist."
      ]
     },
     "execution_count": 121,
     "metadata": {},
     "output_type": "execute_result"
    }
   ],
   "source": [
    "?countdf"
   ]
  },
  {
   "cell_type": "code",
   "execution_count": 114,
   "metadata": {},
   "outputs": [
    {
     "data": {
      "text/plain": [
       "market_turnover (generic function with 1 method)"
      ]
     },
     "execution_count": 114,
     "metadata": {},
     "output_type": "execute_result"
    }
   ],
   "source": [
    "function market_turnover(data::DataFrame, market::Symbol, funcadd::Function)\n",
    "  by(data, :market, funcadd -> sum(funcadd[:turnover]))\n",
    "end"
   ]
  },
  {
   "cell_type": "code",
   "execution_count": null,
   "metadata": {},
   "outputs": [],
   "source": [
    "market_turnover(dt, dt[:market])"
   ]
  }
 ],
 "metadata": {
  "kernelspec": {
   "display_name": "Julia 1.0.0",
   "language": "julia",
   "name": "julia-1.0"
  },
  "language_info": {
   "file_extension": ".jl",
   "mimetype": "application/julia",
   "name": "julia",
   "version": "1.0.0"
  }
 },
 "nbformat": 4,
 "nbformat_minor": 2
}
